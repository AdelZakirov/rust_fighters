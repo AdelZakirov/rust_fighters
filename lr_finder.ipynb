{
 "cells": [
  {
   "cell_type": "code",
   "execution_count": 7,
   "metadata": {},
   "outputs": [],
   "source": [
    "%matplotlib inline\n",
    "import torch\n",
    "import numpy as np\n",
    "import torch.nn as nn\n",
    "import torch.optim as optim\n",
    "import torchvision.transforms as transforms\n",
    "from torch.utils.data import DataLoader,  WeightedRandomSampler\n",
    "from PIL import Image\n",
    "\n",
    "import sys\n",
    "import torch\n",
    "sys.path.append('..')\n",
    "from dp_tools.lr_finder import LRFinder\n",
    "from dataset import DatasetBCE, DatasetBinary, Dataset, DatasetPseudo\n",
    "import torch.nn.functional as F\n",
    "from torchvision.models import densenet169, resnet50, resnet152, resnet18\n",
    "import mlflow.pytorch\n",
    "from qhoptim.pyt import QHAdam\n",
    "from pydoc import locate\n",
    "from dp_tools.models import Descriptor\n",
    "from dp_tools.helpers import get_class_weights, define_sampler\n",
    "import numpy as np\n",
    "import torch_optimizer as optim\n",
    "from loss import cross_entropy"
   ]
  },
  {
   "cell_type": "code",
   "execution_count": 3,
   "metadata": {},
   "outputs": [],
   "source": [
    "TRAIN = list(np.loadtxt('Data/kfolds/TRAIN_CLUST_1.txt', delimiter='\\n', dtype=str))\n",
    "VAL = list(np.loadtxt('Data/kfolds/VAL_CLUST_1.txt', delimiter='\\n', dtype=str))\n",
    "TEST = list(np.loadtxt('Data/TEST_filtered.txt', delimiter='\\n', dtype=str))\n",
    "ds_val = DatasetBCE(TRAIN+VAL, mode='val', augmentation=False, size=380)\n",
    "ds_train = DatasetPseudo(TEST, augmentation=True, size=380)\n",
    "labels = np.loadtxt('Data/hard_labels_pseudo.txt', dtype=int)\n",
    "train_loader = DataLoader(dataset=ds_train,\n",
    "                          num_workers=6,\n",
    "                          batch_size=8,\n",
    "                          shuffle=False)\n",
    "val_loader = DataLoader(dataset=ds_val,\n",
    "                        num_workers=6,\n",
    "                        batch_size=1,\n",
    "                        shuffle=False)"
   ]
  },
  {
   "cell_type": "code",
   "execution_count": 5,
   "metadata": {},
   "outputs": [],
   "source": [
    "weights = get_class_weights(labels)\n",
    "sampler_ = WeightedRandomSampler(weights, len(weights))\n",
    "shuffle = False"
   ]
  },
  {
   "cell_type": "code",
   "execution_count": 5,
   "metadata": {},
   "outputs": [],
   "source": [
    "sampler_ = None\n",
    "shuffle = True"
   ]
  },
  {
   "cell_type": "code",
   "execution_count": 6,
   "metadata": {},
   "outputs": [],
   "source": [
    "train_loader = DataLoader(dataset=ds_train,\n",
    "                          sampler=sampler_,\n",
    "                          num_workers=16,\n",
    "                          batch_size=8,\n",
    "                          shuffle=shuffle)\n",
    "val_loader = DataLoader(dataset=ds_val,\n",
    "                        num_workers=16,\n",
    "                        batch_size=8,\n",
    "                        shuffle=False)"
   ]
  },
  {
   "cell_type": "code",
   "execution_count": 8,
   "metadata": {},
   "outputs": [],
   "source": [
    "# loss_function = F.binary_cross_entropy_with_logits\n",
    "loss_function = cross_entropy"
   ]
  },
  {
   "cell_type": "code",
   "execution_count": 9,
   "metadata": {},
   "outputs": [],
   "source": [
    "model_class = 'efficientnet_pytorch.EfficientNet.from_pretrained'\n",
    "model_hyperparams ={\n",
    "  'model_name': 'efficientnet-b4',\n",
    "  'advprop': False,\n",
    "  'num_classes': 3}\n",
    "# model_class = 'dp_tools.models.Descriptor'\n",
    "# model_hyperparams = {\n",
    "#   'encoder_name':  'se_resnext50_32x4d',\n",
    "#   'num_output': 3,\n",
    "#   'add_dense_layer': False,\n",
    "#   'pretrain': True}\n",
    "# model_class = 'models_lpf.resnet.resnet50'\n",
    "# model_hyperparams = {'filter_size': 3}\n",
    "# model = locate(model_class)(**model_hyperparams)\n",
    "# model.load_state_dict(torch.load('weights/resnet50_lpf3.pth.tar')['state_dict'])\n",
    "# model.fc = torch.nn.Linear(in_features=2048, out_features=3)"
   ]
  },
  {
   "cell_type": "code",
   "execution_count": 10,
   "metadata": {},
   "outputs": [
    {
     "name": "stdout",
     "output_type": "stream",
     "text": [
      "Loaded pretrained weights for efficientnet-b4\n"
     ]
    }
   ],
   "source": [
    "device = torch.device('cuda:0')\n",
    "model = locate(model_class)(**model_hyperparams)\n",
    "model = model.to(device)\n",
    "model = torch.nn.DataParallel(model).cuda()"
   ]
  },
  {
   "cell_type": "code",
   "execution_count": 15,
   "metadata": {},
   "outputs": [],
   "source": [
    "optimizer = torch.optim.Adam(filter(lambda p: p.requires_grad, model.parameters()),\n",
    "                             lr=1e-6,\n",
    "                             weight_decay=0)#.000001)\n",
    "# optimizer = optim.RAdam(\n",
    "#     filter(lambda p: p.requires_grad, model.parameters()),\n",
    "#     lr= 1e-6,\n",
    "#     betas=(0.9, 0.999),\n",
    "#     eps=1e-8,\n",
    "#     weight_decay=0,\n",
    "# )\n",
    "# optimizer = QHAdam(filter(lambda p: p.requires_grad, model.parameters()),\n",
    "#                            lr=1e-6,\n",
    "#                            nus=[0.7, 1.0],\n",
    "#                            betas=[0.995, 0.999],\n",
    "#                            weight_decay=0)"
   ]
  },
  {
   "cell_type": "code",
   "execution_count": 16,
   "metadata": {
    "scrolled": false
   },
   "outputs": [
    {
     "name": "stderr",
     "output_type": "stream",
     "text": [
      "\n",
      "  0%|          | 0/100 [00:00<?, ?it/s]\u001b[A\n",
      "  1%|          | 1/100 [00:10<16:56, 10.26s/it]\u001b[A\n",
      "  2%|▏         | 2/100 [00:19<16:04,  9.84s/it]\u001b[A\n",
      "  3%|▎         | 3/100 [00:27<15:14,  9.43s/it]\u001b[A\n",
      "  4%|▍         | 4/100 [00:36<14:46,  9.24s/it]\u001b[A\n",
      "  5%|▌         | 5/100 [00:45<14:22,  9.08s/it]\u001b[A\n",
      "  6%|▌         | 6/100 [00:53<14:03,  8.97s/it]\u001b[A\n",
      "  7%|▋         | 7/100 [01:02<13:48,  8.91s/it]\u001b[A\n",
      "  8%|▊         | 8/100 [01:11<13:31,  8.82s/it]\u001b[A\n",
      "  9%|▉         | 9/100 [01:19<13:17,  8.76s/it]\u001b[A\n",
      " 10%|█         | 10/100 [01:28<13:03,  8.71s/it]\u001b[A\n",
      " 11%|█         | 11/100 [01:37<12:54,  8.71s/it]\u001b[A\n",
      " 12%|█▏        | 12/100 [01:45<12:45,  8.70s/it]\u001b[A\n",
      " 13%|█▎        | 13/100 [01:54<12:38,  8.72s/it]\u001b[A\n",
      " 14%|█▍        | 14/100 [02:03<12:34,  8.77s/it]\u001b[A\n",
      " 15%|█▌        | 15/100 [02:12<12:22,  8.73s/it]\u001b[A\n",
      " 16%|█▌        | 16/100 [02:20<12:18,  8.79s/it]\u001b[A\n",
      " 17%|█▋        | 17/100 [02:29<12:14,  8.85s/it]\u001b[A\n",
      " 18%|█▊        | 18/100 [02:39<12:12,  8.94s/it]\u001b[A\n",
      " 19%|█▉        | 19/100 [02:48<12:07,  8.99s/it]\u001b[A\n",
      " 20%|██        | 20/100 [02:57<12:02,  9.03s/it]\u001b[A\n",
      " 21%|██        | 21/100 [03:06<11:57,  9.08s/it]\u001b[A\n",
      " 22%|██▏       | 22/100 [03:15<11:53,  9.14s/it]\u001b[A\n",
      " 23%|██▎       | 23/100 [03:24<11:40,  9.10s/it]\u001b[A\n",
      " 24%|██▍       | 24/100 [03:33<11:26,  9.03s/it]\u001b[A\n",
      " 25%|██▌       | 25/100 [03:42<11:19,  9.05s/it]\u001b[A\n",
      " 26%|██▌       | 26/100 [03:51<11:11,  9.07s/it]\u001b[A\n",
      " 27%|██▋       | 27/100 [04:01<11:04,  9.11s/it]\u001b[A\n",
      " 28%|██▊       | 28/100 [04:10<10:54,  9.09s/it]\u001b[A\n",
      " 29%|██▉       | 29/100 [04:19<10:44,  9.08s/it]\u001b[A\n",
      " 30%|███       | 30/100 [04:28<10:37,  9.10s/it]\u001b[A\n",
      " 31%|███       | 31/100 [04:37<10:29,  9.12s/it]\u001b[A\n",
      " 32%|███▏      | 32/100 [04:46<10:23,  9.16s/it]\u001b[A\n",
      " 33%|███▎      | 33/100 [04:55<10:07,  9.06s/it]\u001b[A\n",
      " 34%|███▍      | 34/100 [05:04<09:53,  9.00s/it]\u001b[A\n",
      " 35%|███▌      | 35/100 [05:13<09:47,  9.03s/it]\u001b[A\n",
      " 36%|███▌      | 36/100 [05:22<09:38,  9.04s/it]\u001b[A\n",
      " 37%|███▋      | 37/100 [05:31<09:30,  9.06s/it]\u001b[A\n",
      " 38%|███▊      | 38/100 [05:40<09:18,  9.00s/it]\u001b[A\n",
      " 39%|███▉      | 39/100 [05:49<09:08,  8.99s/it]\u001b[A\n",
      " 40%|████      | 40/100 [05:58<09:00,  9.01s/it]\u001b[A\n",
      " 41%|████      | 41/100 [06:07<08:49,  8.98s/it]\u001b[A\n",
      " 42%|████▏     | 42/100 [06:16<08:38,  8.94s/it]\u001b[A\n",
      " 43%|████▎     | 43/100 [06:25<08:31,  8.98s/it]\u001b[A\n",
      " 44%|████▍     | 44/100 [06:34<08:21,  8.96s/it]\u001b[A\n",
      " 45%|████▌     | 45/100 [06:43<08:14,  8.98s/it]\u001b[A\n",
      " 46%|████▌     | 46/100 [06:52<08:11,  9.10s/it]\u001b[A\n",
      " 47%|████▋     | 47/100 [07:01<08:03,  9.12s/it]\u001b[A\n",
      " 48%|████▊     | 48/100 [07:14<08:53, 10.26s/it]\u001b[A\n",
      " 49%|████▉     | 49/100 [07:24<08:27,  9.95s/it]\u001b[A\n",
      " 50%|█████     | 50/100 [07:33<08:06,  9.72s/it]\u001b[A\n",
      " 51%|█████     | 51/100 [07:42<07:49,  9.58s/it]\u001b[A\n",
      " 52%|█████▏    | 52/100 [07:51<07:33,  9.45s/it]\u001b[A\n",
      " 53%|█████▎    | 53/100 [08:00<07:20,  9.38s/it]\u001b[A\n",
      " 54%|█████▍    | 54/100 [08:10<07:10,  9.35s/it]\u001b[A\n",
      " 55%|█████▌    | 55/100 [08:19<07:01,  9.36s/it]\u001b[A\n",
      " 56%|█████▌    | 56/100 [08:28<06:48,  9.29s/it]\u001b[A\n",
      " 57%|█████▋    | 57/100 [08:37<06:36,  9.23s/it]\u001b[A\n",
      " 58%|█████▊    | 58/100 [08:47<06:28,  9.24s/it]\u001b[A\n",
      " 59%|█████▉    | 59/100 [08:56<06:19,  9.25s/it]\u001b[A\n",
      " 60%|██████    | 60/100 [09:05<06:09,  9.23s/it]\u001b[A\n",
      " 61%|██████    | 61/100 [09:14<05:59,  9.21s/it]\u001b[A"
     ]
    },
    {
     "name": "stdout",
     "output_type": "stream",
     "text": [
      "Stopping early, the loss has diverged\n",
      "Learning rate search finished. See the graph with {finder_name}.plot()\n"
     ]
    }
   ],
   "source": [
    "lr_finder = LRFinder(model, optimizer, loss_function, device=\"cuda\")\n",
    "lr_finder.range_test(train_loader, val_loader, end_lr=10, num_iter=100, step_mode=\"exp\")"
   ]
  },
  {
   "cell_type": "code",
   "execution_count": 17,
   "metadata": {},
   "outputs": [
    {
     "data": {
      "image/png": "[encoded data removed]",
      "text/plain": [
       "<Figure size 432x288 with 1 Axes>"
      ]
     },
     "metadata": {
      "needs_background": "light"
     },
     "output_type": "display_data"
    }
   ],
   "source": [
    "lr_finder.plot(skip_end=2)"
   ]
  },
  {
   "cell_type": "code",
   "execution_count": null,
   "metadata": {},
   "outputs": [],
   "source": []
  }
 ],
 "metadata": {
  "kernelspec": {
   "display_name": "Python 3",
   "language": "python",
   "name": "python3"
  },
  "language_info": {
   "codemirror_mode": {
    "name": "ipython",
    "version": 3
   },
   "file_extension": ".py",
   "mimetype": "text/x-python",
   "name": "python",
   "nbconvert_exporter": "python",
   "pygments_lexer": "ipython3",
   "version": "3.6.9"
  }
 },
 "nbformat": 4,
 "nbformat_minor": 2
}
